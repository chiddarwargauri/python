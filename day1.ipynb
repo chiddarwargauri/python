{
 "cells": [
  {
   "cell_type": "code",
   "execution_count": null,
   "id": "db6a9205-5f15-4e94-aee0-7f8d4e09e432",
   "metadata": {},
   "outputs": [],
   "source": []
  },
  {
   "cell_type": "markdown",
   "id": "6c9a4652-0c79-4484-9940-8b1eafe1b7b6",
   "metadata": {},
   "source": [
    "# HELP Command \n",
    " - shows the description about the object  that is given to the command\n",
    " - lets see how the help() command works for the print() command"
   ]
  },
  {
   "cell_type": "code",
   "execution_count": 2,
   "id": "94e094b9-9017-4959-9ac7-e08abb043e47",
   "metadata": {},
   "outputs": [
    {
     "name": "stdout",
     "output_type": "stream",
     "text": [
      "Help on built-in function print in module builtins:\n",
      "\n",
      "print(*args, sep=' ', end='\\n', file=None, flush=False)\n",
      "    Prints the values to a stream, or to sys.stdout by default.\n",
      "    \n",
      "    sep\n",
      "      string inserted between values, default a space.\n",
      "    end\n",
      "      string appended after the last value, default a newline.\n",
      "    file\n",
      "      a file-like object (stream); defaults to the current sys.stdout.\n",
      "    flush\n",
      "      whether to forcibly flush the stream.\n",
      "\n"
     ]
    }
   ],
   "source": [
    "help(print)"
   ]
  },
  {
   "cell_type": "markdown",
   "id": "73713290-2583-40c0-814c-876e584dd747",
   "metadata": {},
   "source": [
    "# COMMENTS \n",
    "  \n",
    "  - comments are text in code that is not execute by the      interpreter\n",
    "      -in pythone command begin with  #\n",
    "  - comment may be used creatively to comment out pices of code to stop the interpreter from running it\n",
    "  - shortcut to toggle comment on a line\n",
    "       - CMD + /(macOS)\n",
    "       - CMD + / (WINDOWS)\n"
   ]
  },
  {
   "cell_type": "code",
   "execution_count": 7,
   "id": "ef1bf449-7c44-4e1b-abd6-bf7757e8d93e",
   "metadata": {},
   "outputs": [
    {
     "name": "stdout",
     "output_type": "stream",
     "text": [
      "HELLO\n"
     ]
    }
   ],
   "source": [
    "# THIS IS A COMMENT\n",
    "print ('HELLO')"
   ]
  },
  {
   "cell_type": "code",
   "execution_count": 8,
   "id": "0ca6f826-e32d-415a-a157-fc198b4493c5",
   "metadata": {},
   "outputs": [
    {
     "name": "stdout",
     "output_type": "stream",
     "text": [
      "anything \n"
     ]
    }
   ],
   "source": [
    "''' this is a \n",
    "multiline comment'''\n",
    "\n",
    "print ('anything ')\n"
   ]
  },
  {
   "cell_type": "markdown",
   "id": "3c93c62d-777c-4c15-ae79-99af8aad8a0f",
   "metadata": {},
   "source": [
    "# variables \n",
    " - data entities that takes a value "
   ]
  },
  {
   "cell_type": "code",
   "execution_count": 10,
   "id": "0f874e8d-a60b-43ba-aa1f-47fad7503f11",
   "metadata": {},
   "outputs": [
    {
     "name": "stdout",
     "output_type": "stream",
     "text": [
      "7\n"
     ]
    }
   ],
   "source": [
    "# blind number 7 to variable 'x'\n",
    "x = 7\n",
    "print(x)"
   ]
  },
  {
   "cell_type": "markdown",
   "id": "8f43e37f-0d7b-45e9-acc2-9cb0ebade417",
   "metadata": {},
   "source": [
    "# PYTHON VARIABLE NAMING CONVENTION (INDUSTRY STANDARD) \n",
    "  - variables name start with lowercase letter or underscore \n",
    "      - can be followed by number or underscore \n",
    "  - snake_case is convenional way of writing variable names with multiple words\n",
    "  - variable name cannot begin with number but number can be a part of the variable name later \n",
    "      - eg: name like : va923 , _app4r_ ,f8_9, tmp ; are allowed\n",
    "      - eg: name like : 9va23 , #ap4r_ , tm*p : are not allowed\n",
    "        "
   ]
  },
  {
   "cell_type": "markdown",
   "id": "51b4aa0d-3993-4a62-8ad6-085b2e524e2b",
   "metadata": {},
   "source": [
    "#SIMPLE PROGRAM \n",
    " - **INPUT :**  USES THE *INPUT*  COMMAND \n",
    " - **OUTPUT :** USE THE *PRINT* COMMAND  "
   ]
  },
  {
   "cell_type": "code",
   "execution_count": 12,
   "id": "fed84181-18d2-438a-99e3-97cbe7ad0268",
   "metadata": {},
   "outputs": [
    {
     "name": "stdin",
     "output_type": "stream",
     "text": [
      "what is your name ? gauri\n"
     ]
    },
    {
     "name": "stdout",
     "output_type": "stream",
     "text": [
      "gauri\n"
     ]
    }
   ],
   "source": [
    "name = input ('what is your name ?')\n",
    "print(name)"
   ]
  },
  {
   "cell_type": "code",
   "execution_count": 13,
   "id": "2ba1391a-114a-49dc-9581-2c3719df892a",
   "metadata": {},
   "outputs": [
    {
     "name": "stdin",
     "output_type": "stream",
     "text": [
      "what is your name ? gauri\n"
     ]
    },
    {
     "name": "stdout",
     "output_type": "stream",
     "text": [
      "My name is  gauri\n"
     ]
    }
   ],
   "source": [
    "name = input ('what is your name ?')\n",
    "print ('My name is ',name)"
   ]
  },
  {
   "cell_type": "code",
   "execution_count": 15,
   "id": "dd0a2d80-6f0c-4a93-8bd4-ede587b75cad",
   "metadata": {},
   "outputs": [
    {
     "name": "stdin",
     "output_type": "stream",
     "text": [
      "what is your name ? gauri\n",
      "enter your age :  20\n"
     ]
    },
    {
     "name": "stdout",
     "output_type": "stream",
     "text": [
      "My name is  gauri and i am 20 years old.\n"
     ]
    }
   ],
   "source": [
    "name = input ('what is your name ?')\n",
    "age = input ('enter your age : ')\n",
    "print('My name is ' ,name, 'and i am',age ,'years old.')"
   ]
  },
  {
   "cell_type": "markdown",
   "id": "092f08df-66ff-4bcc-9593-5ddc7c16386f",
   "metadata": {},
   "source": [
    "# DATA TYPES\n",
    "- A PERTICULAR KIND OF DATA ENTITY , DEFINED BY THE VALUES IT CAN TAKE \n",
    "- PYTHON HAS SEVERAL BUILD - IN DATA TYPES , SOME OF THEM ARE:\n",
    "    - NUMERIC DATA TYPES\n",
    "    - TEXT SEQUENCE DATA TYPE \n",
    "    - SEQUENCE DATA TYPES\n",
    "    - MAPPING DATA TYPE \n",
    "    - BOOLEAN DATA TYPE\n",
    "    - SET DATA TYPE\n",
    "- THE type() function is used to check the data type of something in python"
   ]
  },
  {
   "cell_type": "markdown",
   "id": "5991a1ec-2784-47e3-aec2-3d3e2fa4a512",
   "metadata": {},
   "source": [
    "# numeric Data types\n",
    " - two basic data types \n",
    "    1. int : integers\n",
    "    2. float : decimal number\n",
    "    "
   ]
  },
  {
   "cell_type": "code",
   "execution_count": 2,
   "id": "9cb2cf35-9c5c-4914-92b8-14dd0dc15088",
   "metadata": {},
   "outputs": [
    {
     "name": "stdout",
     "output_type": "stream",
     "text": [
      "7\n"
     ]
    },
    {
     "data": {
      "text/plain": [
       "int"
      ]
     },
     "execution_count": 2,
     "metadata": {},
     "output_type": "execute_result"
    }
   ],
   "source": [
    "x=7\n",
    "print(x)\n",
    "#check type of variables\n",
    "type(x)"
   ]
  },
  {
   "cell_type": "code",
   "execution_count": 3,
   "id": "73cf6b7d-e977-4f5d-9f86-f48233d48f91",
   "metadata": {},
   "outputs": [
    {
     "name": "stdout",
     "output_type": "stream",
     "text": [
      "8.9\n"
     ]
    },
    {
     "data": {
      "text/plain": [
       "float"
      ]
     },
     "execution_count": 3,
     "metadata": {},
     "output_type": "execute_result"
    }
   ],
   "source": [
    "y=8.9\n",
    "print(y)\n",
    "#check type of variables\n",
    "type(y)"
   ]
  },
  {
   "cell_type": "markdown",
   "id": "03df556e-9226-42a9-be4b-60eceb6fe046",
   "metadata": {},
   "source": [
    "# TEXT SEQUENCE TYPES \n",
    "- STRING ARE A TEXT SEQUENCE DATA TYPE\n",
    "-  THEY ARE A SEQUENCE OF CHARACTERE\n",
    "-  THEY ARE IMMUTABLE\n",
    "-  THEY ARE ORDERED\n",
    "  "
   ]
  },
  {
   "cell_type": "code",
   "execution_count": 5,
   "id": "5a2a3a60-ccf0-44ec-bb11-73781e3ac0bb",
   "metadata": {},
   "outputs": [
    {
     "name": "stdout",
     "output_type": "stream",
     "text": [
      "harry\n"
     ]
    },
    {
     "data": {
      "text/plain": [
       "str"
      ]
     },
     "execution_count": 5,
     "metadata": {},
     "output_type": "execute_result"
    }
   ],
   "source": [
    "name = 'harry'\n",
    "print(name)\n",
    "#check type of the variables \n",
    "\n",
    "type(name)\n"
   ]
  },
  {
   "cell_type": "code",
   "execution_count": 6,
   "id": "8d2278e4-684c-44ae-b480-2450f51a3367",
   "metadata": {},
   "outputs": [
    {
     "name": "stdout",
     "output_type": "stream",
     "text": [
      "at post tq mahagaon dist yavatmal pin code 445205\n"
     ]
    },
    {
     "data": {
      "text/plain": [
       "str"
      ]
     },
     "execution_count": 6,
     "metadata": {},
     "output_type": "execute_result"
    }
   ],
   "source": [
    "address=\"at post tq mahagaon dist yavatmal pin code 445205\"\n",
    "print(address)\n",
    "type(address)"
   ]
  },
  {
   "cell_type": "code",
   "execution_count": 7,
   "id": "d2733bff-3b55-4ea9-8945-c62c0d3b7827",
   "metadata": {},
   "outputs": [
    {
     "name": "stdout",
     "output_type": "stream",
     "text": [
      "123\n"
     ]
    },
    {
     "data": {
      "text/plain": [
       "str"
      ]
     },
     "execution_count": 7,
     "metadata": {},
     "output_type": "execute_result"
    }
   ],
   "source": [
    "num= '123'\n",
    "print(num)\n",
    "type(num)"
   ]
  },
  {
   "cell_type": "markdown",
   "id": "81906f8b-69dd-463e-a5b6-72ca1e34d6d4",
   "metadata": {},
   "source": [
    "# SEQUENCE TYPES\n",
    "- THERE ARE THREE KINDS OD SEQUENCE TYPE\n",
    "- LIST MUTABLE SEQUENCE\n",
    "- TUPLE: IMMUTABLE SEQUENCE\n",
    "- RANGE : IMMUTABLE SEQUENCE\n",
    "  "
   ]
  },
  {
   "cell_type": "markdown",
   "id": "93966a7a-cfa1-45ee-90a2-253015383ad5",
   "metadata": {},
   "source": [
    "### LIST"
   ]
  },
  {
   "cell_type": "code",
   "execution_count": 10,
   "id": "e082e6df-4bbb-44e4-99ec-dc35ca203b49",
   "metadata": {},
   "outputs": [
    {
     "name": "stdout",
     "output_type": "stream",
     "text": [
      "[1, 2, 3, 4, 'e']\n"
     ]
    },
    {
     "data": {
      "text/plain": [
       "list"
      ]
     },
     "execution_count": 10,
     "metadata": {},
     "output_type": "execute_result"
    }
   ],
   "source": [
    "LIST=[1,2,3,4,'e']\n",
    "print (LIST)\n",
    "type (LIST)"
   ]
  },
  {
   "cell_type": "code",
   "execution_count": 11,
   "id": "e8d7d66e-3222-4ab4-b04f-5659dabdf1f5",
   "metadata": {},
   "outputs": [
    {
     "data": {
      "text/plain": [
       "5"
      ]
     },
     "execution_count": 11,
     "metadata": {},
     "output_type": "execute_result"
    }
   ],
   "source": [
    "# check length of list\n",
    "len(LIST)"
   ]
  },
  {
   "cell_type": "markdown",
   "id": "5d65f9fd-079c-4072-9481-812fc713c9a2",
   "metadata": {},
   "source": [
    "### TUPLE "
   ]
  },
  {
   "cell_type": "code",
   "execution_count": 15,
   "id": "34e69b53-cf22-45c0-a4a2-a4becda3c2b1",
   "metadata": {},
   "outputs": [
    {
     "name": "stdout",
     "output_type": "stream",
     "text": [
      "(1, 3, 4, 'E')\n"
     ]
    },
    {
     "data": {
      "text/plain": [
       "tuple"
      ]
     },
     "execution_count": 15,
     "metadata": {},
     "output_type": "execute_result"
    }
   ],
   "source": [
    "TUPLE = (1,3,4,'E')\n",
    "print(TUPLE)\n",
    "type (TUPLE)"
   ]
  },
  {
   "cell_type": "code",
   "execution_count": 16,
   "id": "34d8bfc1-5e9a-4949-a842-8e8188a0bad4",
   "metadata": {},
   "outputs": [
    {
     "data": {
      "text/plain": [
       "4"
      ]
     },
     "execution_count": 16,
     "metadata": {},
     "output_type": "execute_result"
    }
   ],
   "source": [
    "#check the length of tuple \n",
    "len(TUPLE)"
   ]
  },
  {
   "cell_type": "code",
   "execution_count": 19,
   "id": "58fe254f-2dba-47bc-aa2f-44643e182189",
   "metadata": {},
   "outputs": [
    {
     "data": {
      "text/plain": [
       "4"
      ]
     },
     "execution_count": 19,
     "metadata": {},
     "output_type": "execute_result"
    }
   ],
   "source": [
    "len(TUPLE)"
   ]
  },
  {
   "cell_type": "code",
   "execution_count": 21,
   "id": "981bbf40-d74a-4f12-9ec0-467a177a8c61",
   "metadata": {},
   "outputs": [
    {
     "data": {
      "text/plain": [
       "tuple"
      ]
     },
     "execution_count": 21,
     "metadata": {},
     "output_type": "execute_result"
    }
   ],
   "source": [
    "T1=1,3,'D',4\n",
    "type(T1)"
   ]
  },
  {
   "cell_type": "markdown",
   "id": "3e36c135-3fdb-4d42-abbf-e764e80a33b9",
   "metadata": {},
   "source": [
    "# interview quetions "
   ]
  },
  {
   "cell_type": "markdown",
   "id": "d5eede21-bd87-459f-9694-30c2006a6253",
   "metadata": {},
   "source": [
    "what is the diffrence between list and tuple \n",
    "\n",
    "| list|tuple|\n",
    "| --- |-----|\n",
    "|ordered group of comma seperated vales in square bracket | orgered group of comma seperated of comma seperated in parenthesis|\n",
    "|square brackets are mendatory | parenthesis is not mandatory\n",
    "| mutable | immutable |\n",
    "| once ceated ,content changes can be made | once created , content cannot be change |\n",
    "|should be chosen if content is not fixed ,and keepschanging | chosen if content is fixed and never changes |\n",
    "|cannot be used as keys for dictionaries | can be used as keys for dictionaries |\n",
    "\n"
   ]
  },
  {
   "cell_type": "code",
   "execution_count": 22,
   "id": "8f8015e0-9139-4d06-9bd3-011614f5da02",
   "metadata": {},
   "outputs": [],
   "source": [
    "my_favs=['pink','samosa','pune']"
   ]
  },
  {
   "cell_type": "code",
   "execution_count": 23,
   "id": "3e8b7c9c-a434-4555-8925-b1f34c4f0629",
   "metadata": {},
   "outputs": [
    {
     "name": "stdout",
     "output_type": "stream",
     "text": [
      "['pink', 'samosa', 'pune']\n"
     ]
    }
   ],
   "source": [
    "print(my_favs)"
   ]
  },
  {
   "cell_type": "markdown",
   "id": "7a512653-2275-4b3f-92df-f8376f04be87",
   "metadata": {},
   "source": [
    "## RANGE \n"
   ]
  },
  {
   "cell_type": "markdown",
   "id": "3d0114c7-8f88-4b70-bf86-90afaa1d17dd",
   "metadata": {},
   "source": [
    "r1 =range(7)\n",
    "print(r1)\n",
    "len(r1)\n",
    "type(r1)"
   ]
  },
  {
   "cell_type": "code",
   "execution_count": 25,
   "id": "59a26f6e-ac0e-4dc1-88b1-a8744d868c25",
   "metadata": {},
   "outputs": [
    {
     "data": {
      "text/plain": [
       "11"
      ]
     },
     "execution_count": 25,
     "metadata": {},
     "output_type": "execute_result"
    }
   ],
   "source": [
    "r2= range(4,15)\n",
    "len(r2)"
   ]
  },
  {
   "cell_type": "code",
   "execution_count": 26,
   "id": "0f857f58-1d35-4d76-aa0b-9f796037650a",
   "metadata": {},
   "outputs": [],
   "source": [
    "#DEFINE RANGE WITH (START , STOP,STEP)\n",
    "r3 = range(2,21,2)"
   ]
  },
  {
   "cell_type": "code",
   "execution_count": 27,
   "id": "42c6b6b0-17db-4103-a6a5-580d55e6d2c1",
   "metadata": {},
   "outputs": [
    {
     "name": "stdout",
     "output_type": "stream",
     "text": [
      "range(2, 21, 2)\n"
     ]
    }
   ],
   "source": [
    "print(r3)"
   ]
  },
  {
   "cell_type": "code",
   "execution_count": 28,
   "id": "e6790325-370b-4314-848d-4f082eac31dd",
   "metadata": {},
   "outputs": [
    {
     "data": {
      "text/plain": [
       "10"
      ]
     },
     "execution_count": 28,
     "metadata": {},
     "output_type": "execute_result"
    }
   ],
   "source": [
    "len(r3)"
   ]
  },
  {
   "cell_type": "code",
   "execution_count": 29,
   "id": "0021e47b-90c9-44d5-8ac4-cdd388cb8502",
   "metadata": {},
   "outputs": [
    {
     "data": {
      "text/plain": [
       "[2, 4, 6, 8, 10, 12, 14, 16, 18, 20]"
      ]
     },
     "execution_count": 29,
     "metadata": {},
     "output_type": "execute_result"
    }
   ],
   "source": [
    "list(r3)"
   ]
  },
  {
   "cell_type": "markdown",
   "id": "532ede37-7993-4f7c-ac1a-2d0f269f4893",
   "metadata": {},
   "source": [
    "# mapping types\n",
    "- **dictionary** is a mapping data type \n",
    "-  it is mutable \n",
    "- unordered"
   ]
  },
  {
   "cell_type": "code",
   "execution_count": 30,
   "id": "fb77da8b-b876-4888-85d5-1fe3f504c127",
   "metadata": {},
   "outputs": [
    {
     "name": "stdout",
     "output_type": "stream",
     "text": [
      "{'one': 1, 'two': 2}\n"
     ]
    }
   ],
   "source": [
    "d ={'one':1,'two':2}\n",
    "print (d)"
   ]
  },
  {
   "cell_type": "markdown",
   "id": "d561c8e1-0421-416f-b21b-b55a5652c17b",
   "metadata": {},
   "source": [
    "## set\n",
    "\n",
    "a set is an unordered cllection data tpe that is iterable , mutable and has no duplicate element "
   ]
  },
  {
   "cell_type": "code",
   "execution_count": 31,
   "id": "543ed079-7a70-407b-81d0-826ba6e3e65c",
   "metadata": {},
   "outputs": [
    {
     "name": "stdout",
     "output_type": "stream",
     "text": [
      "{1, 2, 3, 4, 5}\n"
     ]
    }
   ],
   "source": [
    "s2= {1,3,4,4,5,2}\n",
    "print(s2)"
   ]
  },
  {
   "cell_type": "markdown",
   "id": "2e4f05d6-9325-4f50-b192-2dadf78ca880",
   "metadata": {},
   "source": [
    "## boolean types\n",
    "1. state of truth \n",
    "     1. may be true or false "
   ]
  },
  {
   "cell_type": "code",
   "execution_count": 32,
   "id": "ef8016c3-67c3-41fa-8cb8-904e8e3e50c4",
   "metadata": {},
   "outputs": [
    {
     "data": {
      "text/plain": [
       "bool"
      ]
     },
     "execution_count": 32,
     "metadata": {},
     "output_type": "execute_result"
    }
   ],
   "source": [
    "b= True \n",
    "type(b)\n"
   ]
  },
  {
   "cell_type": "code",
   "execution_count": null,
   "id": "c1b9559f-700a-49ed-adbf-f4779d2db225",
   "metadata": {},
   "outputs": [],
   "source": []
  },
  {
   "cell_type": "markdown",
   "id": "c69c0bc9-74ff-412a-895b-78a410ae5e6b",
   "metadata": {},
   "source": [
    "# OPERATORS "
   ]
  },
  {
   "cell_type": "markdown",
   "id": "f249b4ac-1173-452d-a7da-ae1cf8d42a1f",
   "metadata": {},
   "source": [
    "- POPULAR KINDS OF OPERATORS \n",
    "  - NUMERIC OPERATOR \n",
    "  - COMPARISON  OPERATORS\n",
    "  - LOGICAL OPERATORS\n",
    "  - ASSIGNMENT OPERATOR \n",
    "  - IDENTIFY OPERATOR \n",
    "  - MEMBERSHIP OPERATOR \n",
    "- SOME ARE DISCUSSED BELOW"
   ]
  },
  {
   "cell_type": "markdown",
   "id": "92633f18-4652-46e3-8c26-4003946afd04",
   "metadata": {},
   "source": [
    "## NUMERIC OPERATOR \n",
    "\n",
    "- USED WITH NUMERIC DATA TYPES TO PERFORM MATHEMATICAL OPERATIONS \n",
    " - +: ADDITION \n",
    " - -: SUBTRACTION \n",
    " - *: MULTIPLICATION \n",
    " - / : DIVISION\n",
    " - // : FLOOR DIVISION \n",
    " - % : MODULUS (REMAINDER)\n",
    " - ** : RAISING TO POWER \n",
    " - abs() : absolute value of numnber \n",
    " - round() : round a number \n",
    " - bin() : get binary version of  a number \n",
    " -hex() : get hexadecimal version of a nmber \n"
   ]
  },
  {
   "cell_type": "code",
   "execution_count": 36,
   "id": "e5083da2-4009-42fe-baa5-7e7c03f61dbd",
   "metadata": {},
   "outputs": [],
   "source": [
    "x=5 \n",
    "y=2\n",
    "z=-12\n"
   ]
  },
  {
   "cell_type": "code",
   "execution_count": 37,
   "id": "8395b78e-bd30-452c-b298-ea63db5dbc7c",
   "metadata": {},
   "outputs": [
    {
     "data": {
      "text/plain": [
       "7"
      ]
     },
     "execution_count": 37,
     "metadata": {},
     "output_type": "execute_result"
    }
   ],
   "source": [
    "# sum of x and y\n",
    "x+y"
   ]
  },
  {
   "cell_type": "code",
   "execution_count": 38,
   "id": "b1dc75d5-daab-49d5-8646-fc719b7f5b04",
   "metadata": {},
   "outputs": [
    {
     "name": "stdout",
     "output_type": "stream",
     "text": [
      "3\n"
     ]
    }
   ],
   "source": [
    "# difference of x and y \n",
    "print(x-y)"
   ]
  },
  {
   "cell_type": "code",
   "execution_count": 39,
   "id": "d64ee02d-7234-4dae-97e2-1fa4220d5ef6",
   "metadata": {},
   "outputs": [
    {
     "name": "stdout",
     "output_type": "stream",
     "text": [
      "10\n"
     ]
    }
   ],
   "source": [
    "#product of x and y\n",
    "print(x*y)"
   ]
  },
  {
   "cell_type": "code",
   "execution_count": 40,
   "id": "69ff8773-5e8f-4644-a9ef-09135a94a793",
   "metadata": {},
   "outputs": [
    {
     "name": "stdout",
     "output_type": "stream",
     "text": [
      "2.5\n"
     ]
    }
   ],
   "source": [
    "#quotient of x and y \n",
    "print(x/y) "
   ]
  },
  {
   "cell_type": "code",
   "execution_count": 41,
   "id": "e9e023a7-331d-40eb-b131-f592e2dd9767",
   "metadata": {},
   "outputs": [
    {
     "name": "stdout",
     "output_type": "stream",
     "text": [
      "2\n"
     ]
    }
   ],
   "source": [
    "#floor quotient of x and y\n",
    "print (x//y)"
   ]
  },
  {
   "cell_type": "code",
   "execution_count": 42,
   "id": "5e29d21c-16f4-4f25-bf14-ed58b62b84f4",
   "metadata": {},
   "outputs": [
    {
     "data": {
      "text/plain": [
       "1"
      ]
     },
     "execution_count": 42,
     "metadata": {},
     "output_type": "execute_result"
    }
   ],
   "source": [
    "# remainder of x and y \n",
    "x%y"
   ]
  },
  {
   "cell_type": "code",
   "execution_count": 43,
   "id": "faa5df4b-7077-4c35-acbd-93b409613d40",
   "metadata": {},
   "outputs": [
    {
     "data": {
      "text/plain": [
       "12"
      ]
     },
     "execution_count": 43,
     "metadata": {},
     "output_type": "execute_result"
    }
   ],
   "source": [
    "#absulute value \n",
    "abs(z)"
   ]
  },
  {
   "cell_type": "code",
   "execution_count": 44,
   "id": "b856f7e3-e225-4d05-aa82-195d89a20033",
   "metadata": {},
   "outputs": [
    {
     "name": "stdout",
     "output_type": "stream",
     "text": [
      "25\n"
     ]
    }
   ],
   "source": [
    "#  x raised to power y \n",
    "print (x ** y)"
   ]
  },
  {
   "cell_type": "code",
   "execution_count": 45,
   "id": "197c5dad-b392-4380-b024-942fe2cadcb1",
   "metadata": {},
   "outputs": [
    {
     "name": "stdout",
     "output_type": "stream",
     "text": [
      "32\n"
     ]
    }
   ],
   "source": [
    "print (y ** x) "
   ]
  },
  {
   "cell_type": "code",
   "execution_count": 46,
   "id": "34bd71ff-b21d-4249-a37a-4efb29327636",
   "metadata": {},
   "outputs": [
    {
     "data": {
      "text/plain": [
       "2"
      ]
     },
     "execution_count": 46,
     "metadata": {},
     "output_type": "execute_result"
    }
   ],
   "source": [
    "# rounding the decima example - round down \n",
    "round (2.1)"
   ]
  },
  {
   "cell_type": "code",
   "execution_count": 47,
   "id": "ba90b2fa-5ab8-4758-bf02-221d2b4866b6",
   "metadata": {},
   "outputs": [
    {
     "data": {
      "text/plain": [
       "5"
      ]
     },
     "execution_count": 47,
     "metadata": {},
     "output_type": "execute_result"
    }
   ],
   "source": [
    "# rounding a decimal example - round up\n",
    "round(4.9)"
   ]
  },
  {
   "cell_type": "code",
   "execution_count": 48,
   "id": "cd9b98e6-693c-431c-91ac-4930cf45b9cf",
   "metadata": {},
   "outputs": [
    {
     "data": {
      "text/plain": [
       "4"
      ]
     },
     "execution_count": 48,
     "metadata": {},
     "output_type": "execute_result"
    }
   ],
   "source": [
    "round(4.5)"
   ]
  },
  {
   "cell_type": "code",
   "execution_count": 49,
   "id": "8a8d9603-debf-45b4-91d3-5b85094e9de5",
   "metadata": {},
   "outputs": [
    {
     "data": {
      "text/plain": [
       "5"
      ]
     },
     "execution_count": 49,
     "metadata": {},
     "output_type": "execute_result"
    }
   ],
   "source": [
    "round(4.55)"
   ]
  },
  {
   "cell_type": "code",
   "execution_count": 50,
   "id": "8ad5ff36-ca2a-4104-9625-494cd971315e",
   "metadata": {},
   "outputs": [
    {
     "name": "stdout",
     "output_type": "stream",
     "text": [
      "3.1456783\n"
     ]
    },
    {
     "data": {
      "text/plain": [
       "3.15"
      ]
     },
     "execution_count": 50,
     "metadata": {},
     "output_type": "execute_result"
    }
   ],
   "source": [
    "a = 3.1456783\n",
    "print (a)\n",
    "round(a,2)"
   ]
  },
  {
   "cell_type": "code",
   "execution_count": 51,
   "id": "a6c0a2ea-db17-44c5-8532-a29108de405b",
   "metadata": {},
   "outputs": [
    {
     "data": {
      "text/plain": [
       "'0b100101'"
      ]
     },
     "execution_count": 51,
     "metadata": {},
     "output_type": "execute_result"
    }
   ],
   "source": [
    "# binary version of the number \n",
    "bin(37)"
   ]
  },
  {
   "cell_type": "code",
   "execution_count": 52,
   "id": "0e16a259-d798-4fd9-917f-feb80c48dd91",
   "metadata": {},
   "outputs": [
    {
     "data": {
      "text/plain": [
       "'0xc'"
      ]
     },
     "execution_count": 52,
     "metadata": {},
     "output_type": "execute_result"
    }
   ],
   "source": [
    "hex(12)"
   ]
  },
  {
   "cell_type": "markdown",
   "id": "c3b68956-c2c5-4162-839f-f5fbb40e7fc1",
   "metadata": {},
   "source": [
    "excerise : \n",
    " create a variable with the values of pi as 3.14 creae a new variable as radius and asssign it a float value , this will be the radius of a circle and then output the area of the cercle using the formula pi* radius^2\n"
   ]
  },
  {
   "cell_type": "code",
   "execution_count": 1,
   "id": "61b51ad8-e375-454e-8875-1d3b747a8b86",
   "metadata": {},
   "outputs": [
    {
     "name": "stdout",
     "output_type": "stream",
     "text": [
      "63.585\n"
     ]
    }
   ],
   "source": [
    "pi=3.14\n",
    "radius = 4.5\n",
    "p=pi*radius**2\n",
    "print(p)"
   ]
  },
  {
   "cell_type": "code",
   "execution_count": 2,
   "id": "2032cd08-c345-4b7b-ac46-e08faacf14e5",
   "metadata": {},
   "outputs": [],
   "source": [
    "# create  a program to calculate simple intrest\n",
    "p=1000\n",
    "r=4\n",
    "t=2\n",
    "si=(p*r*t)/100"
   ]
  },
  {
   "cell_type": "code",
   "execution_count": 3,
   "id": "64a34665-f400-4a74-b728-fe226c777dfd",
   "metadata": {},
   "outputs": [
    {
     "name": "stdout",
     "output_type": "stream",
     "text": [
      "80.0\n"
     ]
    }
   ],
   "source": [
    "print(si)"
   ]
  },
  {
   "cell_type": "code",
   "execution_count": 5,
   "id": "e0f15309-edac-4f5b-b30a-0b68e674475b",
   "metadata": {},
   "outputs": [
    {
     "name": "stdin",
     "output_type": "stream",
     "text": [
      "enter principal amount 1000\n",
      "enter r 4\n",
      "enter time 3\n"
     ]
    },
    {
     "name": "stdout",
     "output_type": "stream",
     "text": [
      "80.0\n"
     ]
    }
   ],
   "source": [
    "p= float(input('enter principal amount'))\n",
    "r=float(input('enter r'))\n",
    "t=float(input('enter time' ))\n",
    "Si =(p*r*t)/100\n",
    "print (si)"
   ]
  },
  {
   "cell_type": "code",
   "execution_count": 6,
   "id": "6ff2f881-405b-4024-9527-37b95362b65a",
   "metadata": {},
   "outputs": [
    {
     "data": {
      "text/plain": [
       "'11'"
      ]
     },
     "execution_count": 6,
     "metadata": {},
     "output_type": "execute_result"
    }
   ],
   "source": [
    "'1'+'1'"
   ]
  },
  {
   "cell_type": "markdown",
   "id": "bb8a7920-fa3f-4800-ae54-35f98d09559d",
   "metadata": {},
   "source": [
    "# comparison operator \n"
   ]
  },
  {
   "cell_type": "markdown",
   "id": "0d0ec97f-67cc-4243-a6d7-74161d4c1c1a",
   "metadata": {},
   "source": [
    "+ used to compare to values\n",
    "+ <:less than\n",
    "+ **>**greater than\n",
    "+ <=less than or equa to\n",
    "+ == :equality\n",
    "+ !=:inquality\n",
    "  "
   ]
  },
  {
   "cell_type": "code",
   "execution_count": 1,
   "id": "3b7e5e2d-9a98-4ba1-896c-d99ab7ca188c",
   "metadata": {},
   "outputs": [
    {
     "name": "stdout",
     "output_type": "stream",
     "text": [
      "True\n"
     ]
    }
   ],
   "source": [
    "i=3\n",
    "j=7\n",
    "print(i<j)"
   ]
  },
  {
   "cell_type": "code",
   "execution_count": 2,
   "id": "b67fc874-b006-4074-98e5-95cf6278fe70",
   "metadata": {},
   "outputs": [
    {
     "name": "stdout",
     "output_type": "stream",
     "text": [
      "False\n"
     ]
    }
   ],
   "source": [
    "print(i>j)"
   ]
  },
  {
   "cell_type": "code",
   "execution_count": 3,
   "id": "dd851d6f-61ac-48e7-90a3-e9720bdbc5ab",
   "metadata": {},
   "outputs": [
    {
     "data": {
      "text/plain": [
       "True"
      ]
     },
     "execution_count": 3,
     "metadata": {},
     "output_type": "execute_result"
    }
   ],
   "source": [
    "i<=j"
   ]
  },
  {
   "cell_type": "code",
   "execution_count": 4,
   "id": "e28fc795-0d56-4d24-bca6-6cd5a0f218ba",
   "metadata": {},
   "outputs": [
    {
     "data": {
      "text/plain": [
       "False"
      ]
     },
     "execution_count": 4,
     "metadata": {},
     "output_type": "execute_result"
    }
   ],
   "source": [
    "i>=j"
   ]
  },
  {
   "cell_type": "code",
   "execution_count": 5,
   "id": "a39ea6c9-5098-4a2a-a531-0b7a7a427fb0",
   "metadata": {},
   "outputs": [
    {
     "data": {
      "text/plain": [
       "False"
      ]
     },
     "execution_count": 5,
     "metadata": {},
     "output_type": "execute_result"
    }
   ],
   "source": [
    "i==j"
   ]
  },
  {
   "cell_type": "code",
   "execution_count": 6,
   "id": "769a004b-418e-4128-b4b2-dd4cf1d79c35",
   "metadata": {},
   "outputs": [
    {
     "data": {
      "text/plain": [
       "False"
      ]
     },
     "execution_count": 6,
     "metadata": {},
     "output_type": "execute_result"
    }
   ],
   "source": [
    "j!=j"
   ]
  },
  {
   "cell_type": "markdown",
   "id": "cd776f50-4014-4fc7-aecb-9f23df240e18",
   "metadata": {},
   "source": [
    "# logical operator \n"
   ]
  },
  {
   "cell_type": "markdown",
   "id": "b866afeb-6023-4f56-b4c0-96c3d9b2dbbd",
   "metadata": {},
   "source": [
    "+ used to combine conditional statements\n",
    "+ and\n",
    "+ or\n",
    "+  not\n",
    "  \n",
    "\n"
   ]
  },
  {
   "cell_type": "code",
   "execution_count": 7,
   "id": "37fd23be-caea-427d-8d28-6d276d65f08a",
   "metadata": {},
   "outputs": [
    {
     "name": "stdout",
     "output_type": "stream",
     "text": [
      "True\n",
      "True\n"
     ]
    }
   ],
   "source": [
    "a=True \n",
    "b=True\n",
    "print(a and b)\n",
    "print(a or b)"
   ]
  },
  {
   "cell_type": "code",
   "execution_count": 9,
   "id": "87c42508-ef3d-4dda-b9a1-0234f1158cbe",
   "metadata": {},
   "outputs": [
    {
     "name": "stdout",
     "output_type": "stream",
     "text": [
      "False\n",
      "True\n"
     ]
    }
   ],
   "source": [
    "a=True \n",
    "b=False\n",
    "print(a and b)\n",
    "print(a or b)"
   ]
  },
  {
   "cell_type": "code",
   "execution_count": 11,
   "id": "de7a6d08-52a0-4cc9-a81c-9c5e961a88be",
   "metadata": {},
   "outputs": [
    {
     "name": "stdout",
     "output_type": "stream",
     "text": [
      "False\n",
      "True\n"
     ]
    }
   ],
   "source": [
    "a=False\n",
    "b=True \n",
    "print(a and b)\n",
    "print(a or b)"
   ]
  },
  {
   "cell_type": "code",
   "execution_count": 12,
   "id": "0b3f9df6-27cf-4596-80e7-d9b976e2dd9a",
   "metadata": {},
   "outputs": [
    {
     "name": "stdout",
     "output_type": "stream",
     "text": [
      "False\n",
      "False\n"
     ]
    }
   ],
   "source": [
    "a=False\n",
    "b =False\n",
    "print(a and b)\n",
    "print(a or b)"
   ]
  },
  {
   "cell_type": "markdown",
   "id": "56ec76ba-445b-4ad9-909b-fcffc82b99bb",
   "metadata": {},
   "source": [
    "# assignment Operator \n",
    "\n",
    "\n",
    "     - used to assign values to variables\n",
    "                 =\n",
    "following operator combine numerical operations at the same time as assignment \n",
    "+  +=\n",
    "+ -=\n",
    "+  *=\n",
    "+  /=\n",
    "+  //=\n",
    "+  %=\n",
    "+  **="
   ]
  },
  {
   "cell_type": "code",
   "execution_count": 13,
   "id": "e2215b17-499a-4038-8124-759384c776a1",
   "metadata": {},
   "outputs": [
    {
     "name": "stdout",
     "output_type": "stream",
     "text": [
      "2\n"
     ]
    }
   ],
   "source": [
    "a=1\n",
    "a+=1\n",
    "print(a)"
   ]
  },
  {
   "cell_type": "code",
   "execution_count": 14,
   "id": "efb7e0e3-dc8e-4cb4-86a2-df67bb2d65ee",
   "metadata": {},
   "outputs": [
    {
     "name": "stdout",
     "output_type": "stream",
     "text": [
      "21\n"
     ]
    }
   ],
   "source": [
    "a=22\n",
    "a-=1\n",
    "print(a)"
   ]
  },
  {
   "cell_type": "code",
   "execution_count": 15,
   "id": "fcfa22bc-30fc-4e09-b9da-8ead52abf3f0",
   "metadata": {},
   "outputs": [
    {
     "name": "stdout",
     "output_type": "stream",
     "text": [
      "3.0\n"
     ]
    }
   ],
   "source": [
    "a=9\n",
    "a/=3\n",
    "print(a)"
   ]
  },
  {
   "cell_type": "code",
   "execution_count": 16,
   "id": "8016687c-4a6a-4d63-9316-1263ec5b4705",
   "metadata": {},
   "outputs": [
    {
     "name": "stdout",
     "output_type": "stream",
     "text": [
      "3\n"
     ]
    }
   ],
   "source": [
    "a=9\n",
    "a//=3\n",
    "print(a)\n"
   ]
  },
  {
   "cell_type": "code",
   "execution_count": 17,
   "id": "ec3a05b1-b8b8-4e5e-b074-5ef723125e66",
   "metadata": {},
   "outputs": [
    {
     "data": {
      "text/plain": [
       "0"
      ]
     },
     "execution_count": 17,
     "metadata": {},
     "output_type": "execute_result"
    }
   ],
   "source": [
    "a=4\n",
    "a%=2\n",
    "a"
   ]
  },
  {
   "cell_type": "code",
   "execution_count": 18,
   "id": "63a51c73-15af-4163-867a-641b5456fb54",
   "metadata": {},
   "outputs": [
    {
     "data": {
      "text/plain": [
       "25"
      ]
     },
     "execution_count": 18,
     "metadata": {},
     "output_type": "execute_result"
    }
   ],
   "source": [
    "a=5\n",
    "a**=2\n",
    "a"
   ]
  },
  {
   "cell_type": "markdown",
   "id": "4bc232bd-a48c-4509-8302-b9d3b4e60922",
   "metadata": {},
   "source": [
    "# identity operator \n"
   ]
  },
  {
   "cell_type": "markdown",
   "id": "85305686-431e-4a59-9e7c-01a6adcd8dec",
   "metadata": {},
   "source": [
    "- used to compare objects\n",
    "- not if they are equal\n",
    "- but it they are actually the same object \n",
    "-  with the same memory location \n",
    "\n",
    "- two identity operator \n",
    "   + is \n",
    "    + is not"
   ]
  },
  {
   "cell_type": "code",
   "execution_count": 2,
   "id": "01000228-9fc6-4d94-a41f-8da66a2a8483",
   "metadata": {},
   "outputs": [
    {
     "data": {
      "text/plain": [
       "True"
      ]
     },
     "execution_count": 2,
     "metadata": {},
     "output_type": "execute_result"
    }
   ],
   "source": [
    "x='apple','banana'\n",
    "y='apple','banana'\n",
    "z=x\n",
    "x is z// memory location is same "
   ]
  },
  {
   "cell_type": "code",
   "execution_count": 3,
   "id": "bb73e954-b699-4f05-9db6-35a47d0c5b12",
   "metadata": {},
   "outputs": [
    {
     "data": {
      "text/plain": [
       "False"
      ]
     },
     "execution_count": 3,
     "metadata": {},
     "output_type": "execute_result"
    }
   ],
   "source": [
    "x is y# memory location is not equal"
   ]
  },
  {
   "cell_type": "code",
   "execution_count": 4,
   "id": "395d07ab-46f2-4faa-840b-7f8fc946d042",
   "metadata": {},
   "outputs": [
    {
     "data": {
      "text/plain": [
       "True"
      ]
     },
     "execution_count": 4,
     "metadata": {},
     "output_type": "execute_result"
    }
   ],
   "source": [
    "x==y //it check the values "
   ]
  },
  {
   "cell_type": "code",
   "execution_count": 5,
   "id": "726f0427-7569-4b86-9462-c47fe06340fe",
   "metadata": {},
   "outputs": [
    {
     "data": {
      "text/plain": [
       "True"
      ]
     },
     "execution_count": 5,
     "metadata": {},
     "output_type": "execute_result"
    }
   ],
   "source": [
    "x is not y"
   ]
  },
  {
   "cell_type": "markdown",
   "id": "2e53ad9e-0b36-4a7e-a2da-69010840be7a",
   "metadata": {},
   "source": [
    "# membership Operator\n"
   ]
  },
  {
   "cell_type": "markdown",
   "id": "8d2bc6c9-2503-4e88-a912-a5e9db18e027",
   "metadata": {},
   "source": [
    "+ used to test if a sequence has specified object \n",
    "+ two membership operators\n",
    "  - in \n",
    "  - not in"
   ]
  },
  {
   "cell_type": "code",
   "execution_count": 6,
   "id": "633aeb8f-4409-4b74-875f-96dd7a64d432",
   "metadata": {},
   "outputs": [
    {
     "data": {
      "text/plain": [
       "['superman', 'wonderwomen', 'batman', 'Aquaman', 'Flash']"
      ]
     },
     "execution_count": 6,
     "metadata": {},
     "output_type": "execute_result"
    }
   ],
   "source": [
    "justice_league=['superman','wonderwomen','batman','Aquaman','Flash']\n",
    "justice_league"
   ]
  },
  {
   "cell_type": "code",
   "execution_count": 7,
   "id": "3b73bfaa-b149-4565-bce2-3700893b4bf8",
   "metadata": {},
   "outputs": [
    {
     "data": {
      "text/plain": [
       "True"
      ]
     },
     "execution_count": 7,
     "metadata": {},
     "output_type": "execute_result"
    }
   ],
   "source": [
    "'superman' in justice_league"
   ]
  },
  {
   "cell_type": "code",
   "execution_count": 8,
   "id": "a3cba2a1-a3d2-4f79-bbc1-ee011acdcd4f",
   "metadata": {},
   "outputs": [
    {
     "data": {
      "text/plain": [
       "False"
      ]
     },
     "execution_count": 8,
     "metadata": {},
     "output_type": "execute_result"
    }
   ],
   "source": [
    "'abc' in justice_league"
   ]
  },
  {
   "cell_type": "code",
   "execution_count": 9,
   "id": "d02f6500-51d2-40dd-a153-6c8e504de619",
   "metadata": {},
   "outputs": [
    {
     "data": {
      "text/plain": [
       "True"
      ]
     },
     "execution_count": 9,
     "metadata": {},
     "output_type": "execute_result"
    }
   ],
   "source": [
    "'abc'not in justice_league"
   ]
  },
  {
   "cell_type": "code",
   "execution_count": null,
   "id": "c590a2c7-a556-4d9e-99ef-c0886a356650",
   "metadata": {},
   "outputs": [],
   "source": []
  }
 ],
 "metadata": {
  "kernelspec": {
   "display_name": "Python 3 (ipykernel)",
   "language": "python",
   "name": "python3"
  },
  "language_info": {
   "codemirror_mode": {
    "name": "ipython",
    "version": 3
   },
   "file_extension": ".py",
   "mimetype": "text/x-python",
   "name": "python",
   "nbconvert_exporter": "python",
   "pygments_lexer": "ipython3",
   "version": "3.11.7"
  }
 },
 "nbformat": 4,
 "nbformat_minor": 5
}
