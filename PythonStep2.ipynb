{
 "cells": [
  {
   "cell_type": "markdown",
   "id": "903e9c44-984e-47be-815b-bae5dfde5a0f",
   "metadata": {},
   "source": [
    "# string\n",
    "+ string is a orderd sequence of a charecter\n",
    "+ string is immutable\n",
    "   - i.e cannot be modified after being created"
   ]
  },
  {
   "cell_type": "code",
   "execution_count": 1,
   "id": "ba10a8d9-d2d1-41f0-8b3e-ecef510c7a76",
   "metadata": {},
   "outputs": [
    {
     "name": "stdout",
     "output_type": "stream",
     "text": [
      "Harry\n"
     ]
    }
   ],
   "source": [
    "name_one= 'Harry'\n",
    "print(name_one)"
   ]
  },
  {
   "cell_type": "code",
   "execution_count": 2,
   "id": "dd0d500d-9c55-49dc-bc8b-849e296c26c6",
   "metadata": {},
   "outputs": [
    {
     "name": "stdout",
     "output_type": "stream",
     "text": [
      "Potter\n"
     ]
    }
   ],
   "source": [
    "name_two=\"Potter\"\n",
    "print(name_two)"
   ]
  },
  {
   "cell_type": "code",
   "execution_count": 5,
   "id": "398e346b-1a90-4498-b4ec-261e89279d25",
   "metadata": {},
   "outputs": [
    {
     "data": {
      "text/plain": [
       "' this is a long string and support\\nmultiline statement'"
      ]
     },
     "execution_count": 5,
     "metadata": {},
     "output_type": "execute_result"
    }
   ],
   "source": [
    "name_tree =''' this is a long string and support\n",
    "multiline statement'''\n",
    "name_tree"
   ]
  },
  {
   "cell_type": "code",
   "execution_count": 7,
   "id": "ee147bbb-1ca2-4631-a602-dc983d4d618e",
   "metadata": {},
   "outputs": [
    {
     "data": {
      "text/plain": [
       "'hello,Welcome to the world of \"python\".'"
      ]
     },
     "execution_count": 7,
     "metadata": {},
     "output_type": "execute_result"
    }
   ],
   "source": [
    "name_four='hello,Welcome to the world of \"python\".'\n",
    "name_four"
   ]
  },
  {
   "cell_type": "code",
   "execution_count": 8,
   "id": "fb924679-bed0-4a06-8b3a-c3bcc39042ae",
   "metadata": {},
   "outputs": [],
   "source": [
    "name_five=\"hello,welcome to the world of 'python' \""
   ]
  },
  {
   "cell_type": "code",
   "execution_count": 9,
   "id": "61f244cf-51e1-4bce-b6a9-1eefa66c71ed",
   "metadata": {},
   "outputs": [
    {
     "data": {
      "text/plain": [
       "\"hello,welcome to the world of 'python' \""
      ]
     },
     "execution_count": 9,
     "metadata": {},
     "output_type": "execute_result"
    }
   ],
   "source": [
    "name_five"
   ]
  },
  {
   "cell_type": "markdown",
   "id": "06549d73-48b7-4ce1-89c8-0586daae58aa",
   "metadata": {},
   "source": [
    "# string Concatenation"
   ]
  },
  {
   "cell_type": "code",
   "execution_count": 11,
   "id": "60144882-1fe6-4a1a-b611-c81f44b8cf9f",
   "metadata": {},
   "outputs": [
    {
     "data": {
      "text/plain": [
       "'harrry potter'"
      ]
     },
     "execution_count": 11,
     "metadata": {},
     "output_type": "execute_result"
    }
   ],
   "source": [
    "f='harrry'\n",
    "s='potter'\n",
    "fs=f+' '+s\n",
    "fs"
   ]
  },
  {
   "cell_type": "code",
   "execution_count": 12,
   "id": "014b974e-23ac-40bb-80ee-d1a68218a3d5",
   "metadata": {},
   "outputs": [
    {
     "data": {
      "text/plain": [
       "13"
      ]
     },
     "execution_count": 12,
     "metadata": {},
     "output_type": "execute_result"
    }
   ],
   "source": [
    "len(fs)"
   ]
  },
  {
   "cell_type": "code",
   "execution_count": 13,
   "id": "c81bfbe2-2bc9-41dc-8f3a-3689383a83a6",
   "metadata": {},
   "outputs": [
    {
     "name": "stdout",
     "output_type": "stream",
     "text": [
      "harrryharrryharrry\n"
     ]
    }
   ],
   "source": [
    "print(f*3)"
   ]
  },
  {
   "cell_type": "markdown",
   "id": "6ee4694f-e6a1-4058-9df2-b9fa31cbbb5f",
   "metadata": {},
   "source": [
    "# String Indexing "
   ]
  },
  {
   "cell_type": "markdown",
   "id": "0a2a2be7-b777-4c78-abf3-5e97f0dac720",
   "metadata": {},
   "source": [
    "+ in python\n",
    "   - indexing of sequence starts from 0\n",
    "+ string is a text sequence \n",
    "  - so indexing forstring start from 0\n",
    "\n"
   ]
  },
  {
   "cell_type": "code",
   "execution_count": 15,
   "id": "04028804-4f21-47f6-8df2-03c3d4477aa7",
   "metadata": {},
   "outputs": [
    {
     "name": "stdout",
     "output_type": "stream",
     "text": [
      "abd\n"
     ]
    }
   ],
   "source": [
    "a='abd'\n",
    "  #012\n",
    "print(a)"
   ]
  },
  {
   "cell_type": "code",
   "execution_count": 16,
   "id": "c14be3f4-bc2e-45a7-ae9c-9976c1660386",
   "metadata": {},
   "outputs": [
    {
     "data": {
      "text/plain": [
       "'b'"
      ]
     },
     "execution_count": 16,
     "metadata": {},
     "output_type": "execute_result"
    }
   ],
   "source": [
    "a[1]"
   ]
  },
  {
   "cell_type": "code",
   "execution_count": 17,
   "id": "1c79dea9-0558-46a9-ba43-253523d765a0",
   "metadata": {},
   "outputs": [
    {
     "data": {
      "text/plain": [
       "'d'"
      ]
     },
     "execution_count": 17,
     "metadata": {},
     "output_type": "execute_result"
    }
   ],
   "source": [
    "a[-1]"
   ]
  },
  {
   "cell_type": "code",
   "execution_count": 18,
   "id": "0101e6e6-dac8-4108-8088-1413fb313bfc",
   "metadata": {},
   "outputs": [
    {
     "data": {
      "text/plain": [
       "'a'"
      ]
     },
     "execution_count": 18,
     "metadata": {},
     "output_type": "execute_result"
    }
   ],
   "source": [
    "a[0]"
   ]
  },
  {
   "cell_type": "code",
   "execution_count": 19,
   "id": "f6450187-938e-4ca1-b3a5-579458cb020c",
   "metadata": {},
   "outputs": [
    {
     "data": {
      "text/plain": [
       "'b'"
      ]
     },
     "execution_count": 19,
     "metadata": {},
     "output_type": "execute_result"
    }
   ],
   "source": [
    "a[-2]"
   ]
  },
  {
   "cell_type": "code",
   "execution_count": 20,
   "id": "2075eb0b-0a8c-47ad-9a13-b48276b12f48",
   "metadata": {},
   "outputs": [
    {
     "data": {
      "text/plain": [
       "'d'"
      ]
     },
     "execution_count": 20,
     "metadata": {},
     "output_type": "execute_result"
    }
   ],
   "source": [
    "a[-1]"
   ]
  },
  {
   "cell_type": "code",
   "execution_count": 21,
   "id": "a68a5c3a-3419-439d-bf02-8c6f8726ee27",
   "metadata": {},
   "outputs": [
    {
     "data": {
      "text/plain": [
       "'a'"
      ]
     },
     "execution_count": 21,
     "metadata": {},
     "output_type": "execute_result"
    }
   ],
   "source": [
    "a[-3]"
   ]
  },
  {
   "cell_type": "markdown",
   "id": "4c1723a7-7254-4555-880b-63299cb043a9",
   "metadata": {},
   "source": [
    "# String Slicing"
   ]
  },
  {
   "cell_type": "markdown",
   "id": "16d70627-6811-4ee3-b0df-83c8a6e1eabc",
   "metadata": {},
   "source": [
    "+ extract sub-sections of a string \n",
    "+ slice string using format [start:stop:step]\n",
    "   - step =1 by default\n",
    "   - you may also omit numbers and use only colons(:)\n"
   ]
  },
  {
   "cell_type": "code",
   "execution_count": 22,
   "id": "303c3d1e-0582-48db-99a4-5525c740d23a",
   "metadata": {},
   "outputs": [
    {
     "data": {
      "text/plain": [
       "'adfdfggsdgsggsfgdg'"
      ]
     },
     "execution_count": 22,
     "metadata": {},
     "output_type": "execute_result"
    }
   ],
   "source": [
    "s='adfdfggsdgsggsfgdg'\n",
    "s"
   ]
  },
  {
   "cell_type": "code",
   "execution_count": 25,
   "id": "51e483d0-0575-4f66-8159-7eb46200f37f",
   "metadata": {},
   "outputs": [
    {
     "data": {
      "text/plain": [
       "'adfdf'"
      ]
     },
     "execution_count": 25,
     "metadata": {},
     "output_type": "execute_result"
    }
   ],
   "source": [
    "s[0:5]"
   ]
  },
  {
   "cell_type": "code",
   "execution_count": 26,
   "id": "4e1938ef-8aeb-4686-b2b1-74af208b61fb",
   "metadata": {},
   "outputs": [
    {
     "data": {
      "text/plain": [
       "'aff'"
      ]
     },
     "execution_count": 26,
     "metadata": {},
     "output_type": "execute_result"
    }
   ],
   "source": [
    "s[0:5:2]"
   ]
  },
  {
   "cell_type": "code",
   "execution_count": 28,
   "id": "6cd62c3b-3541-41a0-a1e7-269e0170a7df",
   "metadata": {},
   "outputs": [
    {
     "data": {
      "text/plain": [
       "'dg'"
      ]
     },
     "execution_count": 28,
     "metadata": {},
     "output_type": "execute_result"
    }
   ],
   "source": [
    "s[1:7:4]"
   ]
  },
  {
   "cell_type": "code",
   "execution_count": 29,
   "id": "cc3cec50-5cc9-49f2-9c0c-82db0474a0c1",
   "metadata": {},
   "outputs": [
    {
     "data": {
      "text/plain": [
       "'adfd'"
      ]
     },
     "execution_count": 29,
     "metadata": {},
     "output_type": "execute_result"
    }
   ],
   "source": [
    "s[:4]"
   ]
  },
  {
   "cell_type": "code",
   "execution_count": 30,
   "id": "6dca6652-96d9-4307-be7a-50e8f1bc1fbc",
   "metadata": {},
   "outputs": [
    {
     "data": {
      "text/plain": [
       "'fdfggsdgsggsfgdg'"
      ]
     },
     "execution_count": 30,
     "metadata": {},
     "output_type": "execute_result"
    }
   ],
   "source": [
    "s[2:]"
   ]
  },
  {
   "cell_type": "code",
   "execution_count": 31,
   "id": "fbade0a6-6bdd-4aed-9e4a-1a091615608d",
   "metadata": {},
   "outputs": [
    {
     "data": {
      "text/plain": [
       "'adfdfggsdgsggsfgdg'"
      ]
     },
     "execution_count": 31,
     "metadata": {},
     "output_type": "execute_result"
    }
   ],
   "source": [
    "s[::]"
   ]
  },
  {
   "cell_type": "code",
   "execution_count": 34,
   "id": "b2ebbfa9-c69b-43d9-a81a-695def5cf0b4",
   "metadata": {},
   "outputs": [
    {
     "data": {
      "text/plain": [
       "'agsg'"
      ]
     },
     "execution_count": 34,
     "metadata": {},
     "output_type": "execute_result"
    }
   ],
   "source": [
    "s[::5]"
   ]
  },
  {
   "cell_type": "code",
   "execution_count": 35,
   "id": "354b3ca4-ae5a-4646-892a-74fba3bdb7b9",
   "metadata": {},
   "outputs": [
    {
     "data": {
      "text/plain": [
       "'gdgfsggsgdsggfdfda'"
      ]
     },
     "execution_count": 35,
     "metadata": {},
     "output_type": "execute_result"
    }
   ],
   "source": [
    "s[::-1]"
   ]
  },
  {
   "cell_type": "code",
   "execution_count": 36,
   "id": "24890d10-6471-48ff-b196-3d170081286a",
   "metadata": {},
   "outputs": [
    {
     "data": {
      "text/plain": [
       "'ggsggsgdd'"
      ]
     },
     "execution_count": 36,
     "metadata": {},
     "output_type": "execute_result"
    }
   ],
   "source": [
    "s[::-2]"
   ]
  },
  {
   "cell_type": "code",
   "execution_count": 39,
   "id": "638a15fb-1993-42b4-b785-fa11564ece0b",
   "metadata": {},
   "outputs": [
    {
     "data": {
      "text/plain": [
       "5"
      ]
     },
     "execution_count": 39,
     "metadata": {},
     "output_type": "execute_result"
    }
   ],
   "source": [
    "s.index('g')"
   ]
  },
  {
   "cell_type": "code",
   "execution_count": 40,
   "id": "a8090c3c-b980-40cd-9418-c0146f4f79ab",
   "metadata": {},
   "outputs": [],
   "source": [
    "sentence='this is one statement'"
   ]
  },
  {
   "cell_type": "code",
   "execution_count": 42,
   "id": "25b4f44a-4fdf-46f1-92cc-318c2a2d21f3",
   "metadata": {},
   "outputs": [
    {
     "data": {
      "text/plain": [
       "'one'"
      ]
     },
     "execution_count": 42,
     "metadata": {},
     "output_type": "execute_result"
    }
   ],
   "source": [
    "sentence[8:11]"
   ]
  },
  {
   "cell_type": "code",
   "execution_count": 44,
   "id": "fd3c90fc-5b38-43c3-b0a5-4ad052f20209",
   "metadata": {},
   "outputs": [],
   "source": [
    "s='y'+s[1:]"
   ]
  },
  {
   "cell_type": "code",
   "execution_count": 45,
   "id": "22c0b491-1aa2-434e-8a7f-ca1cb9f20888",
   "metadata": {},
   "outputs": [
    {
     "data": {
      "text/plain": [
       "'ydfdfggsdgsggsfgdg'"
      ]
     },
     "execution_count": 45,
     "metadata": {},
     "output_type": "execute_result"
    }
   ],
   "source": [
    "s"
   ]
  },
  {
   "cell_type": "code",
   "execution_count": null,
   "id": "96b2f9cd-9aae-4969-8269-22020ee41f93",
   "metadata": {},
   "outputs": [],
   "source": []
  }
 ],
 "metadata": {
  "kernelspec": {
   "display_name": "Python 3 (ipykernel)",
   "language": "python",
   "name": "python3"
  },
  "language_info": {
   "codemirror_mode": {
    "name": "ipython",
    "version": 3
   },
   "file_extension": ".py",
   "mimetype": "text/x-python",
   "name": "python",
   "nbconvert_exporter": "python",
   "pygments_lexer": "ipython3",
   "version": "3.11.7"
  }
 },
 "nbformat": 4,
 "nbformat_minor": 5
}
