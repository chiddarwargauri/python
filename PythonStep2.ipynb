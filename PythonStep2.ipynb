{
 "cells": [
  {
   "cell_type": "markdown",
   "id": "903e9c44-984e-47be-815b-bae5dfde5a0f",
   "metadata": {},
   "source": [
    "# string\n",
    "+ string is a orderd sequence of a charecter\n",
    "+ string is immutable\n",
    "   - i.e cannot be modified after being created"
   ]
  },
  {
   "cell_type": "code",
   "execution_count": 1,
   "id": "ba10a8d9-d2d1-41f0-8b3e-ecef510c7a76",
   "metadata": {},
   "outputs": [
    {
     "name": "stdout",
     "output_type": "stream",
     "text": [
      "Harry\n"
     ]
    }
   ],
   "source": [
    "name_one= 'Harry'\n",
    "print(name_one)"
   ]
  },
  {
   "cell_type": "code",
   "execution_count": 2,
   "id": "dd0d500d-9c55-49dc-bc8b-849e296c26c6",
   "metadata": {},
   "outputs": [
    {
     "name": "stdout",
     "output_type": "stream",
     "text": [
      "Potter\n"
     ]
    }
   ],
   "source": [
    "name_two=\"Potter\"\n",
    "print(name_two)"
   ]
  },
  {
   "cell_type": "code",
   "execution_count": 5,
   "id": "398e346b-1a90-4498-b4ec-261e89279d25",
   "metadata": {},
   "outputs": [
    {
     "data": {
      "text/plain": [
       "' this is a long string and support\\nmultiline statement'"
      ]
     },
     "execution_count": 5,
     "metadata": {},
     "output_type": "execute_result"
    }
   ],
   "source": [
    "name_tree =''' this is a long string and support\n",
    "multiline statement'''\n",
    "name_tree"
   ]
  },
  {
   "cell_type": "code",
   "execution_count": 7,
   "id": "ee147bbb-1ca2-4631-a602-dc983d4d618e",
   "metadata": {},
   "outputs": [
    {
     "data": {
      "text/plain": [
       "'hello,Welcome to the world of \"python\".'"
      ]
     },
     "execution_count": 7,
     "metadata": {},
     "output_type": "execute_result"
    }
   ],
   "source": [
    "name_four='hello,Welcome to the world of \"python\".'\n",
    "name_four"
   ]
  },
  {
   "cell_type": "code",
   "execution_count": 8,
   "id": "fb924679-bed0-4a06-8b3a-c3bcc39042ae",
   "metadata": {},
   "outputs": [],
   "source": [
    "name_five=\"hello,welcome to the world of 'python' \""
   ]
  },
  {
   "cell_type": "code",
   "execution_count": 9,
   "id": "61f244cf-51e1-4bce-b6a9-1eefa66c71ed",
   "metadata": {},
   "outputs": [
    {
     "data": {
      "text/plain": [
       "\"hello,welcome to the world of 'python' \""
      ]
     },
     "execution_count": 9,
     "metadata": {},
     "output_type": "execute_result"
    }
   ],
   "source": [
    "name_five"
   ]
  },
  {
   "cell_type": "markdown",
   "id": "06549d73-48b7-4ce1-89c8-0586daae58aa",
   "metadata": {},
   "source": [
    "# string Concatenation"
   ]
  },
  {
   "cell_type": "code",
   "execution_count": 11,
   "id": "60144882-1fe6-4a1a-b611-c81f44b8cf9f",
   "metadata": {},
   "outputs": [
    {
     "data": {
      "text/plain": [
       "'harrry potter'"
      ]
     },
     "execution_count": 11,
     "metadata": {},
     "output_type": "execute_result"
    }
   ],
   "source": [
    "f='harrry'\n",
    "s='potter'\n",
    "fs=f+' '+s\n",
    "fs"
   ]
  },
  {
   "cell_type": "code",
   "execution_count": 12,
   "id": "014b974e-23ac-40bb-80ee-d1a68218a3d5",
   "metadata": {},
   "outputs": [
    {
     "data": {
      "text/plain": [
       "13"
      ]
     },
     "execution_count": 12,
     "metadata": {},
     "output_type": "execute_result"
    }
   ],
   "source": [
    "len(fs)"
   ]
  },
  {
   "cell_type": "code",
   "execution_count": 13,
   "id": "c81bfbe2-2bc9-41dc-8f3a-3689383a83a6",
   "metadata": {},
   "outputs": [
    {
     "name": "stdout",
     "output_type": "stream",
     "text": [
      "harrryharrryharrry\n"
     ]
    }
   ],
   "source": [
    "print(f*3)"
   ]
  },
  {
   "cell_type": "markdown",
   "id": "6ee4694f-e6a1-4058-9df2-b9fa31cbbb5f",
   "metadata": {},
   "source": [
    "# String Indexing "
   ]
  },
  {
   "cell_type": "markdown",
   "id": "0a2a2be7-b777-4c78-abf3-5e97f0dac720",
   "metadata": {},
   "source": [
    "+ in python\n",
    "   - indexing of sequence starts from 0\n",
    "+ string is a text sequence \n",
    "  - so indexing forstring start from 0\n",
    "\n"
   ]
  },
  {
   "cell_type": "code",
   "execution_count": 15,
   "id": "04028804-4f21-47f6-8df2-03c3d4477aa7",
   "metadata": {},
   "outputs": [
    {
     "name": "stdout",
     "output_type": "stream",
     "text": [
      "abd\n"
     ]
    }
   ],
   "source": [
    "a='abd'\n",
    "  #012\n",
    "print(a)"
   ]
  },
  {
   "cell_type": "code",
   "execution_count": 16,
   "id": "c14be3f4-bc2e-45a7-ae9c-9976c1660386",
   "metadata": {},
   "outputs": [
    {
     "data": {
      "text/plain": [
       "'b'"
      ]
     },
     "execution_count": 16,
     "metadata": {},
     "output_type": "execute_result"
    }
   ],
   "source": [
    "a[1]"
   ]
  },
  {
   "cell_type": "code",
   "execution_count": 17,
   "id": "1c79dea9-0558-46a9-ba43-253523d765a0",
   "metadata": {},
   "outputs": [
    {
     "data": {
      "text/plain": [
       "'d'"
      ]
     },
     "execution_count": 17,
     "metadata": {},
     "output_type": "execute_result"
    }
   ],
   "source": [
    "a[-1]"
   ]
  },
  {
   "cell_type": "code",
   "execution_count": 18,
   "id": "0101e6e6-dac8-4108-8088-1413fb313bfc",
   "metadata": {},
   "outputs": [
    {
     "data": {
      "text/plain": [
       "'a'"
      ]
     },
     "execution_count": 18,
     "metadata": {},
     "output_type": "execute_result"
    }
   ],
   "source": [
    "a[0]"
   ]
  },
  {
   "cell_type": "code",
   "execution_count": 19,
   "id": "f6450187-938e-4ca1-b3a5-579458cb020c",
   "metadata": {},
   "outputs": [
    {
     "data": {
      "text/plain": [
       "'b'"
      ]
     },
     "execution_count": 19,
     "metadata": {},
     "output_type": "execute_result"
    }
   ],
   "source": [
    "a[-2]"
   ]
  },
  {
   "cell_type": "code",
   "execution_count": 20,
   "id": "2075eb0b-0a8c-47ad-9a13-b48276b12f48",
   "metadata": {},
   "outputs": [
    {
     "data": {
      "text/plain": [
       "'d'"
      ]
     },
     "execution_count": 20,
     "metadata": {},
     "output_type": "execute_result"
    }
   ],
   "source": [
    "a[-1]"
   ]
  },
  {
   "cell_type": "code",
   "execution_count": 21,
   "id": "a68a5c3a-3419-439d-bf02-8c6f8726ee27",
   "metadata": {},
   "outputs": [
    {
     "data": {
      "text/plain": [
       "'a'"
      ]
     },
     "execution_count": 21,
     "metadata": {},
     "output_type": "execute_result"
    }
   ],
   "source": [
    "a[-3]"
   ]
  },
  {
   "cell_type": "markdown",
   "id": "4c1723a7-7254-4555-880b-63299cb043a9",
   "metadata": {},
   "source": [
    "# String Slicing"
   ]
  },
  {
   "cell_type": "markdown",
   "id": "16d70627-6811-4ee3-b0df-83c8a6e1eabc",
   "metadata": {},
   "source": [
    "+ extract sub-sections of a string \n",
    "+ slice string using format [start:stop:step]\n",
    "   - step =1 by default\n",
    "   - you may also omit numbers and use only colons(:)\n"
   ]
  },
  {
   "cell_type": "code",
   "execution_count": 22,
   "id": "303c3d1e-0582-48db-99a4-5525c740d23a",
   "metadata": {},
   "outputs": [
    {
     "data": {
      "text/plain": [
       "'adfdfggsdgsggsfgdg'"
      ]
     },
     "execution_count": 22,
     "metadata": {},
     "output_type": "execute_result"
    }
   ],
   "source": [
    "s='adfdfggsdgsggsfgdg'\n",
    "s"
   ]
  },
  {
   "cell_type": "code",
   "execution_count": 25,
   "id": "51e483d0-0575-4f66-8159-7eb46200f37f",
   "metadata": {},
   "outputs": [
    {
     "data": {
      "text/plain": [
       "'adfdf'"
      ]
     },
     "execution_count": 25,
     "metadata": {},
     "output_type": "execute_result"
    }
   ],
   "source": [
    "s[0:5]"
   ]
  },
  {
   "cell_type": "code",
   "execution_count": 26,
   "id": "4e1938ef-8aeb-4686-b2b1-74af208b61fb",
   "metadata": {},
   "outputs": [
    {
     "data": {
      "text/plain": [
       "'aff'"
      ]
     },
     "execution_count": 26,
     "metadata": {},
     "output_type": "execute_result"
    }
   ],
   "source": [
    "s[0:5:2]"
   ]
  },
  {
   "cell_type": "code",
   "execution_count": 28,
   "id": "6cd62c3b-3541-41a0-a1e7-269e0170a7df",
   "metadata": {},
   "outputs": [
    {
     "data": {
      "text/plain": [
       "'dg'"
      ]
     },
     "execution_count": 28,
     "metadata": {},
     "output_type": "execute_result"
    }
   ],
   "source": [
    "s[1:7:4]"
   ]
  },
  {
   "cell_type": "code",
   "execution_count": 29,
   "id": "cc3cec50-5cc9-49f2-9c0c-82db0474a0c1",
   "metadata": {},
   "outputs": [
    {
     "data": {
      "text/plain": [
       "'adfd'"
      ]
     },
     "execution_count": 29,
     "metadata": {},
     "output_type": "execute_result"
    }
   ],
   "source": [
    "s[:4]"
   ]
  },
  {
   "cell_type": "code",
   "execution_count": 30,
   "id": "6dca6652-96d9-4307-be7a-50e8f1bc1fbc",
   "metadata": {},
   "outputs": [
    {
     "data": {
      "text/plain": [
       "'fdfggsdgsggsfgdg'"
      ]
     },
     "execution_count": 30,
     "metadata": {},
     "output_type": "execute_result"
    }
   ],
   "source": [
    "s[2:]"
   ]
  },
  {
   "cell_type": "code",
   "execution_count": 31,
   "id": "fbade0a6-6bdd-4aed-9e4a-1a091615608d",
   "metadata": {},
   "outputs": [
    {
     "data": {
      "text/plain": [
       "'adfdfggsdgsggsfgdg'"
      ]
     },
     "execution_count": 31,
     "metadata": {},
     "output_type": "execute_result"
    }
   ],
   "source": [
    "s[::]"
   ]
  },
  {
   "cell_type": "code",
   "execution_count": 34,
   "id": "b2ebbfa9-c69b-43d9-a81a-695def5cf0b4",
   "metadata": {},
   "outputs": [
    {
     "data": {
      "text/plain": [
       "'agsg'"
      ]
     },
     "execution_count": 34,
     "metadata": {},
     "output_type": "execute_result"
    }
   ],
   "source": [
    "s[::5]"
   ]
  },
  {
   "cell_type": "code",
   "execution_count": 35,
   "id": "354b3ca4-ae5a-4646-892a-74fba3bdb7b9",
   "metadata": {},
   "outputs": [
    {
     "data": {
      "text/plain": [
       "'gdgfsggsgdsggfdfda'"
      ]
     },
     "execution_count": 35,
     "metadata": {},
     "output_type": "execute_result"
    }
   ],
   "source": [
    "s[::-1]"
   ]
  },
  {
   "cell_type": "code",
   "execution_count": 36,
   "id": "24890d10-6471-48ff-b196-3d170081286a",
   "metadata": {},
   "outputs": [
    {
     "data": {
      "text/plain": [
       "'ggsggsgdd'"
      ]
     },
     "execution_count": 36,
     "metadata": {},
     "output_type": "execute_result"
    }
   ],
   "source": [
    "s[::-2]"
   ]
  },
  {
   "cell_type": "code",
   "execution_count": 39,
   "id": "638a15fb-1993-42b4-b785-fa11564ece0b",
   "metadata": {},
   "outputs": [
    {
     "data": {
      "text/plain": [
       "5"
      ]
     },
     "execution_count": 39,
     "metadata": {},
     "output_type": "execute_result"
    }
   ],
   "source": [
    "s.index('g')"
   ]
  },
  {
   "cell_type": "code",
   "execution_count": 40,
   "id": "a8090c3c-b980-40cd-9418-c0146f4f79ab",
   "metadata": {},
   "outputs": [],
   "source": [
    "sentence='this is one statement'"
   ]
  },
  {
   "cell_type": "code",
   "execution_count": 42,
   "id": "25b4f44a-4fdf-46f1-92cc-318c2a2d21f3",
   "metadata": {},
   "outputs": [
    {
     "data": {
      "text/plain": [
       "'one'"
      ]
     },
     "execution_count": 42,
     "metadata": {},
     "output_type": "execute_result"
    }
   ],
   "source": [
    "sentence[8:11]"
   ]
  },
  {
   "cell_type": "code",
   "execution_count": 44,
   "id": "fd3c90fc-5b38-43c3-b0a5-4ad052f20209",
   "metadata": {},
   "outputs": [],
   "source": [
    "s='y'+s[1:]"
   ]
  },
  {
   "cell_type": "code",
   "execution_count": 45,
   "id": "22c0b491-1aa2-434e-8a7f-ca1cb9f20888",
   "metadata": {},
   "outputs": [
    {
     "data": {
      "text/plain": [
       "'ydfdfggsdgsggsfgdg'"
      ]
     },
     "execution_count": 45,
     "metadata": {},
     "output_type": "execute_result"
    }
   ],
   "source": [
    "s"
   ]
  },
  {
   "cell_type": "markdown",
   "id": "07106397-8bfa-4c76-98f4-b09dcb212fe3",
   "metadata": {},
   "source": [
    "# List\n",
    "+ list are ordered sequence of objects\n",
    "    - hey are mutable"
   ]
  },
  {
   "cell_type": "code",
   "execution_count": 1,
   "id": "a9551ab4-65f7-42a1-b888-ac147b99364d",
   "metadata": {},
   "outputs": [],
   "source": [
    "li=[2,3,4,'tom',1.9]\n"
   ]
  },
  {
   "cell_type": "code",
   "execution_count": 2,
   "id": "787602c5-07a7-4de1-bb8a-10ff1e2d819f",
   "metadata": {},
   "outputs": [
    {
     "data": {
      "text/plain": [
       "[2, 3, 4, 'tom', 1.9]"
      ]
     },
     "execution_count": 2,
     "metadata": {},
     "output_type": "execute_result"
    }
   ],
   "source": [
    "li"
   ]
  },
  {
   "cell_type": "code",
   "execution_count": 3,
   "id": "4b6e8e3e-b7f0-4da2-abe6-828c5aaed88c",
   "metadata": {},
   "outputs": [
    {
     "data": {
      "text/plain": [
       "'tom'"
      ]
     },
     "execution_count": 3,
     "metadata": {},
     "output_type": "execute_result"
    }
   ],
   "source": [
    "li[3]"
   ]
  },
  {
   "cell_type": "code",
   "execution_count": 4,
   "id": "ed0b4422-d4ec-40e8-bae9-5208be4fdab9",
   "metadata": {},
   "outputs": [],
   "source": [
    "li[3]='jerry'"
   ]
  },
  {
   "cell_type": "code",
   "execution_count": 5,
   "id": "e4c7ebd4-abc9-4c54-89b0-3bc0efae2117",
   "metadata": {},
   "outputs": [
    {
     "data": {
      "text/plain": [
       "[2, 3, 4, 'jerry', 1.9]"
      ]
     },
     "execution_count": 5,
     "metadata": {},
     "output_type": "execute_result"
    }
   ],
   "source": [
    "li"
   ]
  },
  {
   "cell_type": "code",
   "execution_count": 10,
   "id": "94a14044-19ae-4359-86f4-9e948b47cef4",
   "metadata": {},
   "outputs": [
    {
     "data": {
      "text/plain": [
       "['banana', 'milk', 'bread']"
      ]
     },
     "execution_count": 10,
     "metadata": {},
     "output_type": "execute_result"
    }
   ],
   "source": [
    "grocery = ['banana','milk','bread']\n",
    "grocery"
   ]
  },
  {
   "cell_type": "code",
   "execution_count": 9,
   "id": "78e3a4f5-a687-4d6a-8c69-b6da8008587e",
   "metadata": {},
   "outputs": [
    {
     "data": {
      "text/plain": [
       "['banana', 'milk']"
      ]
     },
     "execution_count": 9,
     "metadata": {},
     "output_type": "execute_result"
    }
   ],
   "source": [
    "grocery[:2]"
   ]
  },
  {
   "cell_type": "code",
   "execution_count": 11,
   "id": "dc943895-ff07-4584-8526-0a36db34ce6a",
   "metadata": {},
   "outputs": [
    {
     "data": {
      "text/plain": [
       "['banana', 'bread']"
      ]
     },
     "execution_count": 11,
     "metadata": {},
     "output_type": "execute_result"
    }
   ],
   "source": [
    "grocery[:3:2]"
   ]
  },
  {
   "cell_type": "code",
   "execution_count": 12,
   "id": "db2ee665-ce75-4655-87db-6eb2deab1a4f",
   "metadata": {},
   "outputs": [
    {
     "data": {
      "text/plain": [
       "['banana', 'bread']"
      ]
     },
     "execution_count": 12,
     "metadata": {},
     "output_type": "execute_result"
    }
   ],
   "source": [
    "grocery[::2]"
   ]
  },
  {
   "cell_type": "code",
   "execution_count": 14,
   "id": "4a40216c-49f6-49e1-af20-0b5f521c1051",
   "metadata": {},
   "outputs": [
    {
     "data": {
      "text/plain": [
       "'milk'"
      ]
     },
     "execution_count": 14,
     "metadata": {},
     "output_type": "execute_result"
    }
   ],
   "source": [
    "grocery[-2]"
   ]
  },
  {
   "cell_type": "markdown",
   "id": "68f443d8-0ddc-40ec-be5c-839f5902dba7",
   "metadata": {},
   "source": [
    "# Nested List \n",
    "+  lists can be enbedded inside lists\n",
    "  + multiple nesting is also supported\n",
    "\n",
    "   "
   ]
  },
  {
   "cell_type": "code",
   "execution_count": 15,
   "id": "3a6cad72-14b3-4720-ab42-6b08fdf253b2",
   "metadata": {},
   "outputs": [
    {
     "data": {
      "text/plain": [
       "[[1, 2, 3], ['a', 'b', 'c'], [True, False, 90]]"
      ]
     },
     "execution_count": 15,
     "metadata": {},
     "output_type": "execute_result"
    }
   ],
   "source": [
    "nested_list=[\n",
    "    [1,2,3],\n",
    "    ['a','b','c'],\n",
    "    [True,False,90]\n",
    "]\n",
    "nested_list"
   ]
  },
  {
   "cell_type": "code",
   "execution_count": 16,
   "id": "0e69be80-1f7d-409c-83f1-f80792fd366d",
   "metadata": {},
   "outputs": [
    {
     "data": {
      "text/plain": [
       "3"
      ]
     },
     "execution_count": 16,
     "metadata": {},
     "output_type": "execute_result"
    }
   ],
   "source": [
    "len(nested_list)"
   ]
  },
  {
   "cell_type": "code",
   "execution_count": 17,
   "id": "0683220c-16a4-4da8-8d2c-d7635f49adda",
   "metadata": {},
   "outputs": [
    {
     "data": {
      "text/plain": [
       "[1, 2, 3]"
      ]
     },
     "execution_count": 17,
     "metadata": {},
     "output_type": "execute_result"
    }
   ],
   "source": [
    "nested_list[0]"
   ]
  },
  {
   "cell_type": "code",
   "execution_count": 18,
   "id": "07893ca8-eba2-4ee2-8e20-c410ede60d47",
   "metadata": {},
   "outputs": [
    {
     "data": {
      "text/plain": [
       "2"
      ]
     },
     "execution_count": 18,
     "metadata": {},
     "output_type": "execute_result"
    }
   ],
   "source": [
    "nested_list[0][1]"
   ]
  },
  {
   "cell_type": "code",
   "execution_count": 19,
   "id": "f1433774-3b6a-4c76-8179-b09275a75dc9",
   "metadata": {},
   "outputs": [
    {
     "data": {
      "text/plain": [
       "False"
      ]
     },
     "execution_count": 19,
     "metadata": {},
     "output_type": "execute_result"
    }
   ],
   "source": [
    "nested_list[2][1]"
   ]
  },
  {
   "cell_type": "markdown",
   "id": "8585f940-829e-4878-a5c3-b0451217effd",
   "metadata": {},
   "source": [
    "Append to list\n",
    "=\n",
    "+ append can add only one element at the end of a list at a time\n"
   ]
  },
  {
   "cell_type": "code",
   "execution_count": 20,
   "id": "b712af70-54c4-425d-a547-1d2b9f2478a9",
   "metadata": {},
   "outputs": [
    {
     "data": {
      "text/plain": [
       "[2, 3, 4, 'jerry', 1.9]"
      ]
     },
     "execution_count": 20,
     "metadata": {},
     "output_type": "execute_result"
    }
   ],
   "source": [
    "li"
   ]
  },
  {
   "cell_type": "code",
   "execution_count": 21,
   "id": "cda602b1-5c78-4c3f-ba9e-cff20a45e8d9",
   "metadata": {},
   "outputs": [],
   "source": [
    "li.append('gauri')"
   ]
  },
  {
   "cell_type": "code",
   "execution_count": 22,
   "id": "b249e9b7-4b1a-4cea-b123-978d4c13f211",
   "metadata": {},
   "outputs": [
    {
     "data": {
      "text/plain": [
       "[2, 3, 4, 'jerry', 1.9, 'gauri']"
      ]
     },
     "execution_count": 22,
     "metadata": {},
     "output_type": "execute_result"
    }
   ],
   "source": [
    "li"
   ]
  },
  {
   "cell_type": "code",
   "execution_count": 30,
   "id": "0c24c1ca-c776-4884-bdca-20fd65e43084",
   "metadata": {},
   "outputs": [
    {
     "ename": "TypeError",
     "evalue": "list.append() takes exactly one argument (3 given)",
     "output_type": "error",
     "traceback": [
      "\u001b[1;31m---------------------------------------------------------------------------\u001b[0m",
      "\u001b[1;31mTypeError\u001b[0m                                 Traceback (most recent call last)",
      "Cell \u001b[1;32mIn[30], line 1\u001b[0m\n\u001b[1;32m----> 1\u001b[0m li\u001b[38;5;241m.\u001b[39mappend(\u001b[38;5;124m'\u001b[39m\u001b[38;5;124mgauri\u001b[39m\u001b[38;5;124m'\u001b[39m,\u001b[38;5;124m'\u001b[39m\u001b[38;5;124mgau\u001b[39m\u001b[38;5;124m'\u001b[39m,\u001b[38;5;241m12\u001b[39m)\n\u001b[0;32m      2\u001b[0m li\n",
      "\u001b[1;31mTypeError\u001b[0m: list.append() takes exactly one argument (3 given)"
     ]
    }
   ],
   "source": [
    "li.append('gauri','gau',12)\n",
    "li"
   ]
  },
  {
   "cell_type": "markdown",
   "id": "c3ec5433-5e9b-434a-b152-4da625d71042",
   "metadata": {},
   "source": [
    "Extend List\n",
    "=\n",
    "+ used to add multiple element at the end of the list"
   ]
  },
  {
   "cell_type": "code",
   "execution_count": 24,
   "id": "c2b8e87c-f3c3-4dfe-9b92-6c714a8dfd29",
   "metadata": {},
   "outputs": [
    {
     "data": {
      "text/plain": [
       "[2, 3, 4, 'jerry', 1.9, 'gauri']"
      ]
     },
     "execution_count": 24,
     "metadata": {},
     "output_type": "execute_result"
    }
   ],
   "source": [
    "li"
   ]
  },
  {
   "cell_type": "code",
   "execution_count": 26,
   "id": "2bae6ebe-6b99-41e0-ab25-eac615b2d859",
   "metadata": {},
   "outputs": [],
   "source": [
    "li.extend(['gauri','gau',12])"
   ]
  },
  {
   "cell_type": "code",
   "execution_count": 27,
   "id": "cdb4b1ce-d2a6-42ac-b181-193218ad0b0b",
   "metadata": {},
   "outputs": [
    {
     "data": {
      "text/plain": [
       "[2, 3, 4, 'jerry', 1.9, 'gauri', 'gauri', 'gau', 12]"
      ]
     },
     "execution_count": 27,
     "metadata": {},
     "output_type": "execute_result"
    }
   ],
   "source": [
    "li"
   ]
  },
  {
   "cell_type": "code",
   "execution_count": 32,
   "id": "2051dc16-3e96-4cde-a1c8-0e53e3c83bd2",
   "metadata": {},
   "outputs": [
    {
     "data": {
      "text/plain": [
       "[2,\n",
       " 3,\n",
       " 4,\n",
       " 'jerry',\n",
       " 1.9,\n",
       " 'gauri',\n",
       " 'gauri',\n",
       " 'gau',\n",
       " 12,\n",
       " ['gauri', 'gau', 12],\n",
       " ['gauri', 'gau', 12],\n",
       " ['gauri', 'gau', 12]]"
      ]
     },
     "execution_count": 32,
     "metadata": {},
     "output_type": "execute_result"
    }
   ],
   "source": [
    "li.append(['gauri','gau',12])\n",
    "li"
   ]
  },
  {
   "cell_type": "markdown",
   "id": "93a05d73-c364-46d4-8593-26b6576e0e48",
   "metadata": {},
   "source": [
    "insert to list \n",
    "=\n",
    "+ can add an element at a given position in the list \n",
    "+ can add only one element at a time\n",
    "   -  two argument :\n",
    "            1. first argument specifies the position\n",
    "            2. second argument specifies the element to be inserted"
   ]
  },
  {
   "cell_type": "code",
   "execution_count": 34,
   "id": "b0bdcfcf-ecb5-4a8b-be43-3c3cb88c3855",
   "metadata": {},
   "outputs": [
    {
     "data": {
      "text/plain": [
       "['banana', 'milk', 'bread']"
      ]
     },
     "execution_count": 34,
     "metadata": {},
     "output_type": "execute_result"
    }
   ],
   "source": [
    "grocery"
   ]
  },
  {
   "cell_type": "code",
   "execution_count": 35,
   "id": "a3221406-abe9-426c-a45f-fb0fcb83cca9",
   "metadata": {},
   "outputs": [],
   "source": [
    "grocery.insert(3,'sinchan')"
   ]
  },
  {
   "cell_type": "code",
   "execution_count": 36,
   "id": "6dc8d00e-19c5-4835-aa7e-cc28a697d982",
   "metadata": {},
   "outputs": [
    {
     "data": {
      "text/plain": [
       "['banana', 'milk', 'bread', 'sinchan']"
      ]
     },
     "execution_count": 36,
     "metadata": {},
     "output_type": "execute_result"
    }
   ],
   "source": [
    "grocery"
   ]
  },
  {
   "cell_type": "code",
   "execution_count": 37,
   "id": "8e9bd3de-5164-423d-9c37-96a1a04923f5",
   "metadata": {},
   "outputs": [],
   "source": [
    "grocery.insert(2,'sinchan')"
   ]
  },
  {
   "cell_type": "code",
   "execution_count": 38,
   "id": "540221a5-8770-4ce1-b808-566a691d464f",
   "metadata": {},
   "outputs": [
    {
     "data": {
      "text/plain": [
       "['banana', 'milk', 'sinchan', 'bread', 'sinchan']"
      ]
     },
     "execution_count": 38,
     "metadata": {},
     "output_type": "execute_result"
    }
   ],
   "source": [
    "grocery\n"
   ]
  },
  {
   "cell_type": "markdown",
   "id": "777b7d59-dc2a-40bc-b7d4-0313857b8f8d",
   "metadata": {},
   "source": [
    "Remove From list\n",
    "=\n",
    "-  used to remove an element from the list\n",
    "-  in this case of multiple occurrences ,only the first is removed\n"
   ]
  },
  {
   "cell_type": "code",
   "execution_count": 39,
   "id": "5ba2556d-f0ee-4594-8718-963917340510",
   "metadata": {},
   "outputs": [],
   "source": [
    "grocery.remove('milk')"
   ]
  },
  {
   "cell_type": "code",
   "execution_count": 40,
   "id": "7d72ea32-3681-4fe0-9a15-f017639f3df6",
   "metadata": {},
   "outputs": [
    {
     "data": {
      "text/plain": [
       "['banana', 'sinchan', 'bread', 'sinchan']"
      ]
     },
     "execution_count": 40,
     "metadata": {},
     "output_type": "execute_result"
    }
   ],
   "source": [
    "grocery"
   ]
  },
  {
   "cell_type": "markdown",
   "id": "bb64e585-e0b8-4213-9abd-ff6459e3d2ad",
   "metadata": {},
   "source": [
    "Pop from list\n",
    "=\n",
    "+ can remove an element from any position in the list\n",
    "+ removes index item\n",
    "+ element is not specified like in remove() menthod ,ony the index position"
   ]
  },
  {
   "cell_type": "code",
   "execution_count": 41,
   "id": "af1aabce-3248-4932-b1ff-11e6afdbd879",
   "metadata": {},
   "outputs": [
    {
     "data": {
      "text/plain": [
       "'banana'"
      ]
     },
     "execution_count": 41,
     "metadata": {},
     "output_type": "execute_result"
    }
   ],
   "source": [
    "grocery.pop(0)\n"
   ]
  },
  {
   "cell_type": "code",
   "execution_count": 42,
   "id": "b26a2f0d-0022-4c7d-94f4-6aa4f1f21960",
   "metadata": {},
   "outputs": [
    {
     "data": {
      "text/plain": [
       "['sinchan', 'bread', 'sinchan']"
      ]
     },
     "execution_count": 42,
     "metadata": {},
     "output_type": "execute_result"
    }
   ],
   "source": [
    "grocery"
   ]
  },
  {
   "cell_type": "code",
   "execution_count": 43,
   "id": "b2781bf2-10c0-4dee-a2b7-f765f0598d89",
   "metadata": {},
   "outputs": [
    {
     "data": {
      "text/plain": [
       "'sinchan'"
      ]
     },
     "execution_count": 43,
     "metadata": {},
     "output_type": "execute_result"
    }
   ],
   "source": [
    "grocery.pop()"
   ]
  },
  {
   "cell_type": "markdown",
   "id": "1afaf5c8-ac32-40ed-86a2-e91c97fa34d4",
   "metadata": {},
   "source": [
    "remove( ) vs pop() \n",
    "\n",
    "                       |remove |pop()|\n",
    "                       |------|-------|\n",
    "                       |removes element by identifiation|remove by index|\n",
    "                       |list.remove(element_to_remove)|list.pop(index_number_to_remove)|"
   ]
  },
  {
   "cell_type": "markdown",
   "id": "7b4c9b24-41ee-42be-b708-19a6577f0a3b",
   "metadata": {},
   "source": [
    "list Slicing\n",
    "=\n",
    "+ used to exact a sub -section of the list\n",
    "+  index access works like string indexing annd slicing"
   ]
  },
  {
   "cell_type": "code",
   "execution_count": 44,
   "id": "a4ed0920-adf9-4746-8922-13feb7129c85",
   "metadata": {},
   "outputs": [
    {
     "data": {
      "text/plain": [
       "[2,\n",
       " 3,\n",
       " 4,\n",
       " 'jerry',\n",
       " 1.9,\n",
       " 'gauri',\n",
       " 'gauri',\n",
       " 'gau',\n",
       " 12,\n",
       " ['gauri', 'gau', 12],\n",
       " ['gauri', 'gau', 12],\n",
       " ['gauri', 'gau', 12]]"
      ]
     },
     "execution_count": 44,
     "metadata": {},
     "output_type": "execute_result"
    }
   ],
   "source": [
    "li"
   ]
  },
  {
   "cell_type": "code",
   "execution_count": 45,
   "id": "ac28eac6-a54a-4276-819e-7a1c3f4577a2",
   "metadata": {},
   "outputs": [
    {
     "data": {
      "text/plain": [
       "[2, 3, 4, 43, 4, 23, 23]"
      ]
     },
     "execution_count": 45,
     "metadata": {},
     "output_type": "execute_result"
    }
   ],
   "source": [
    "m=[2,3,4,43,4,23,23]\n",
    "m"
   ]
  },
  {
   "cell_type": "code",
   "execution_count": 46,
   "id": "1d3b6ffd-9b57-4dde-9900-dcb9d2e30c88",
   "metadata": {},
   "outputs": [
    {
     "data": {
      "text/plain": [
       "4"
      ]
     },
     "execution_count": 46,
     "metadata": {},
     "output_type": "execute_result"
    }
   ],
   "source": [
    "m[4]"
   ]
  },
  {
   "cell_type": "code",
   "execution_count": 48,
   "id": "ebe9f880-853c-4ff2-925c-210ebf08db19",
   "metadata": {},
   "outputs": [
    {
     "data": {
      "text/plain": [
       "[4, 43, 4]"
      ]
     },
     "execution_count": 48,
     "metadata": {},
     "output_type": "execute_result"
    }
   ],
   "source": [
    "m[2:5]"
   ]
  },
  {
   "cell_type": "code",
   "execution_count": 49,
   "id": "68b3536c-b52d-4f74-b4d8-ce42be8b02a3",
   "metadata": {},
   "outputs": [
    {
     "data": {
      "text/plain": [
       "[2, 3, 4, 43, 4]"
      ]
     },
     "execution_count": 49,
     "metadata": {},
     "output_type": "execute_result"
    }
   ],
   "source": [
    "m[:5]"
   ]
  },
  {
   "cell_type": "code",
   "execution_count": 50,
   "id": "7495ceed-11cf-4537-b040-cc4486616f9b",
   "metadata": {},
   "outputs": [
    {
     "data": {
      "text/plain": [
       "23"
      ]
     },
     "execution_count": 50,
     "metadata": {},
     "output_type": "execute_result"
    }
   ],
   "source": [
    "m[5]"
   ]
  },
  {
   "cell_type": "code",
   "execution_count": 51,
   "id": "03366216-8073-4fa4-bdc7-5b6962b45590",
   "metadata": {},
   "outputs": [
    {
     "data": {
      "text/plain": [
       "[2, 4, 4, 23]"
      ]
     },
     "execution_count": 51,
     "metadata": {},
     "output_type": "execute_result"
    }
   ],
   "source": [
    "m[::2]"
   ]
  },
  {
   "cell_type": "code",
   "execution_count": 52,
   "id": "74a4aad7-d4f0-4e91-b61d-686500d01af9",
   "metadata": {},
   "outputs": [
    {
     "name": "stdout",
     "output_type": "stream",
     "text": [
      "[2, 4, 4, 23]\n"
     ]
    }
   ],
   "source": [
    "print(m[::2])"
   ]
  },
  {
   "cell_type": "code",
   "execution_count": 54,
   "id": "92c2e8a7-1913-440e-baf0-28961e645f5f",
   "metadata": {},
   "outputs": [
    {
     "data": {
      "text/plain": [
       "[2, 3, 4, 43, 4, 23, 23]"
      ]
     },
     "execution_count": 54,
     "metadata": {},
     "output_type": "execute_result"
    }
   ],
   "source": [
    "m.reverse()\n",
    "m"
   ]
  },
  {
   "cell_type": "code",
   "execution_count": 56,
   "id": "d0d91d1f-41d6-4bde-b62c-41d017b00e53",
   "metadata": {},
   "outputs": [
    {
     "data": {
      "text/plain": [
       "['dwee', 'qewewe', 'agat']"
      ]
     },
     "execution_count": 56,
     "metadata": {},
     "output_type": "execute_result"
    }
   ],
   "source": [
    "l=['agat','qewewe','dwee']\n",
    "l.reverse()\n",
    "l\n"
   ]
  },
  {
   "cell_type": "markdown",
   "id": "1f95c9fd-35b9-419c-afa1-114df305fb6e",
   "metadata": {},
   "source": [
    "# Min and Max Values of a list\n",
    "+ min() return the minimum values in the list\n",
    "+ max() return the maximum values in the list\n",
    "+ note : both methods accept only homogeneous lists\n",
    "+   i.e. list having elements of similar data type"
   ]
  },
  {
   "cell_type": "code",
   "execution_count": 57,
   "id": "f53bdc7f-31b7-4c1a-a425-86f7a91d2e8c",
   "metadata": {},
   "outputs": [
    {
     "data": {
      "text/plain": [
       "2"
      ]
     },
     "execution_count": 57,
     "metadata": {},
     "output_type": "execute_result"
    }
   ],
   "source": [
    "l1=[3,2,34,44,656]\n",
    "min(l1)"
   ]
  },
  {
   "cell_type": "code",
   "execution_count": 58,
   "id": "c04369de-1f14-4b3b-a02b-83f2566e3bf4",
   "metadata": {},
   "outputs": [
    {
     "data": {
      "text/plain": [
       "656"
      ]
     },
     "execution_count": 58,
     "metadata": {},
     "output_type": "execute_result"
    }
   ],
   "source": [
    "max(l1)"
   ]
  },
  {
   "cell_type": "markdown",
   "id": "230eb625-dacd-486a-b79c-b60e740cbf0f",
   "metadata": {},
   "source": [
    "# concatenate lists\n",
    "+ used to merge two list and return a sing list"
   ]
  },
  {
   "cell_type": "code",
   "execution_count": 59,
   "id": "64f5f6ef-125f-4fd4-b743-d0a134c12972",
   "metadata": {},
   "outputs": [
    {
     "data": {
      "text/plain": [
       "[3, 2, 34, 44, 656, 2, 4, 34, 31231, 4344545]"
      ]
     },
     "execution_count": 59,
     "metadata": {},
     "output_type": "execute_result"
    }
   ],
   "source": [
    "l2=[2,4,34,31231,4344545]\n",
    "l3=l1+l2\n",
    "l3"
   ]
  },
  {
   "cell_type": "markdown",
   "id": "d1d17c20-5fa3-41fc-9b82-181d46606651",
   "metadata": {},
   "source": [
    "Multiply list content\n",
    "=\n",
    "+ allows duplicating the list n time\n",
    "+ resultant list is the original list iterated n times"
   ]
  },
  {
   "cell_type": "code",
   "execution_count": 60,
   "id": "814d5f05-68f0-4f4b-9bcb-5094b6b648ee",
   "metadata": {},
   "outputs": [
    {
     "data": {
      "text/plain": [
       "[3, 2, 34, 44, 656, 3, 2, 34, 44, 656, 3, 2, 34, 44, 656]"
      ]
     },
     "execution_count": 60,
     "metadata": {},
     "output_type": "execute_result"
    }
   ],
   "source": [
    "l1*3"
   ]
  },
  {
   "cell_type": "code",
   "execution_count": null,
   "id": "61fc4802-7240-4ada-a468-52115bf0342d",
   "metadata": {},
   "outputs": [],
   "source": []
  },
  {
   "cell_type": "code",
   "execution_count": null,
   "id": "a8b3240c-1d20-4762-b893-c591818bb45a",
   "metadata": {},
   "outputs": [],
   "source": []
  }
 ],
 "metadata": {
  "kernelspec": {
   "display_name": "Python 3 (ipykernel)",
   "language": "python",
   "name": "python3"
  },
  "language_info": {
   "codemirror_mode": {
    "name": "ipython",
    "version": 3
   },
   "file_extension": ".py",
   "mimetype": "text/x-python",
   "name": "python",
   "nbconvert_exporter": "python",
   "pygments_lexer": "ipython3",
   "version": "3.11.7"
  }
 },
 "nbformat": 4,
 "nbformat_minor": 5
}
